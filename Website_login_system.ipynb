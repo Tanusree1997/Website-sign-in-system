{
  "nbformat": 4,
  "nbformat_minor": 0,
  "metadata": {
    "colab": {
      "provenance": []
    },
    "kernelspec": {
      "name": "python3",
      "display_name": "Python 3"
    },
    "language_info": {
      "name": "python"
    }
  },
  "cells": [
    {
      "cell_type": "code",
      "execution_count": 1,
      "metadata": {
        "id": "1c0W7OSWGu2-"
      },
      "outputs": [],
      "source": [
        "Mail_PW = {\"abc@gmail.com\": \"1abc2\", \"deff@gmail.com\": \"1deff2\", \"ghiJ@gmail.com\" : \"1ghij2\"}"
      ]
    },
    {
      "cell_type": "code",
      "source": [
        "import random\n",
        "import time\n",
        "mail = input(\"Enter your Email Id  \")\n",
        "chance =3\n",
        "\n",
        "random.seed(time.time())\n",
        "OTP = random.randint(100, 999)\n",
        "\n",
        "if mail in Mail_PW.keys():\n",
        "  Command = input(\"Enter your command- L: login, F: Forgot Password, R: Reset Password\").upper()\n",
        "  if Command == \"L\" :\n",
        "    while chance != 0:\n",
        "      Password = input(\"Enter the password  \")\n",
        "      if Mail_PW[mail] != Password:\n",
        "        chance -= 1\n",
        "        print(\"Check your password and re-enter to login\")\n",
        "        print(f\"You have {chance} attempts left\")\n",
        "      else:\n",
        "        print(\"You have successfully logged in\")\n",
        "        break\n",
        "  elif Command == \"F\":\n",
        "    print(\"You will get an OTP in your registered email\")\n",
        "    print(f\"Your OTP is {OTP}\")\n",
        "    OTP_User= int(input(\"Enter your OTP  \"))\n",
        "    if OTP_User == OTP:\n",
        "      Forgot_PW1= input(\"Create Your New Password  \")\n",
        "      Forgot_PW2= input(\"Confirm Your New Password  \")\n",
        "      if Forgot_PW1 == Forgot_PW2:\n",
        "        Mail_PW[mail] = Forgot_PW1\n",
        "        print(\"You have successfully changed your password\")\n",
        "      else:\n",
        "        print(\"Incorrect Password\")\n",
        "    else:\n",
        "      print(\"Incorrect OTP\")\n",
        "  elif Command == \"R\":\n",
        "    Reset_PW1= input(\"Please enter your password  \")\n",
        "    Reset_PW2= input(\"Please confirm your password  \")\n",
        "    if Reset_PW1 == Reset_PW2:\n",
        "      Mail_PW[mail] = Reset_PW1\n",
        "    else:\n",
        "      print(\"Incorrect Password\")\n",
        "  else:\n",
        "    print(\"Incorrect Command\")\n",
        "else:\n",
        "  print(\"Incorrect Email Id\")\n",
        "  Prompt = input(\"Are you a New User? Yes/No  \").upper()\n",
        "  if Prompt == \"YES\":\n",
        "    print(\"Please sign in using your email ID\")\n",
        "    Email = input(\"Enter your Email  \")\n",
        "    if Email in Mail_PW.keys():\n",
        "      print(\"You have an existing account at this email, please login\")\n",
        "    else:\n",
        "      Password1= input(\"Please enter your password  \")\n",
        "      Password2= input(\"Please confirm your password  \")\n",
        "      if Password1 == Password2:\n",
        "        Mail_PW.update({Email : Password1})\n",
        "        print(\"You have successfully created your account\")\n",
        "      else:\n",
        "        print(\"Incorrect Password\")\n",
        "  else:\n",
        "    print(\"Please try login with your registered email Id. Thank you for visiting our website.\")"
      ],
      "metadata": {
        "colab": {
          "base_uri": "https://localhost:8080/"
        },
        "id": "05-GXZE5GxEC",
        "outputId": "46a504a2-ded3-496f-bbc5-b223f22a52a1"
      },
      "execution_count": 2,
      "outputs": [
        {
          "output_type": "stream",
          "name": "stdout",
          "text": [
            "Enter your Email Id  ghj@gmail.com\n",
            "Incorrect Email Id\n",
            "Are you a New User? Yes/No  yes\n",
            "Please sign in using your email ID\n",
            "Enter your Email  ghj@gmail.com\n",
            "Please enter your password  1254gh\n",
            "Please confirm your password  1254gh\n",
            "You have successfully created your account\n"
          ]
        }
      ]
    },
    {
      "cell_type": "code",
      "source": [
        "Mail_PW"
      ],
      "metadata": {
        "colab": {
          "base_uri": "https://localhost:8080/"
        },
        "id": "nZealtu-GzOu",
        "outputId": "2590ca8f-1718-42b9-ee45-07559d1aff08"
      },
      "execution_count": 3,
      "outputs": [
        {
          "output_type": "execute_result",
          "data": {
            "text/plain": [
              "{'abc@gmail.com': '1abc2',\n",
              " 'deff@gmail.com': '1deff2',\n",
              " 'ghiJ@gmail.com': '1ghij2',\n",
              " 'ghj@gmail.com': '1254gh'}"
            ]
          },
          "metadata": {},
          "execution_count": 3
        }
      ]
    }
  ]
}